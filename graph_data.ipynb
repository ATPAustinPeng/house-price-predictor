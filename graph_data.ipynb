{
 "cells": [
  {
   "cell_type": "code",
   "execution_count": 1,
   "metadata": {},
   "outputs": [],
   "source": [
    "import numpy as np\n",
    "import pandas as pd\n",
    "from matplotlib import pyplot as plt\n",
    "import seaborn as sns\n",
    "%matplotlib inline"
   ]
  },
  {
   "cell_type": "code",
   "execution_count": 3,
   "metadata": {},
   "outputs": [
    {
     "name": "stdout",
     "output_type": "stream",
     "text": [
      "<class 'pandas.core.frame.DataFrame'>\n",
      "RangeIndex: 41286 entries, 0 to 41285\n",
      "Data columns (total 7 columns):\n",
      " #   Column                Non-Null Count  Dtype  \n",
      "---  ------                --------------  -----  \n",
      " 0   ID                    41286 non-null  int64  \n",
      " 1   Views                 41286 non-null  int64  \n",
      " 2   Price (USD)           41286 non-null  int64  \n",
      " 3   Space (m^2)           41286 non-null  float64\n",
      " 4   Number of Rooms       41286 non-null  int64  \n",
      " 5   Normalized Latitude   41286 non-null  float64\n",
      " 6   Normalized Longitude  41286 non-null  float64\n",
      "dtypes: float64(3), int64(4)\n",
      "memory usage: 2.2 MB\n"
     ]
    }
   ],
   "source": [
    "data = pd.read_csv(\"./clean_data.csv\")\n",
    "data.info()"
   ]
  },
  {
   "cell_type": "code",
   "execution_count": 4,
   "metadata": {},
   "outputs": [
    {
     "data": {
      "text/plain": [
       "Index(['ID', 'Views', 'Price (USD)', 'Space (m^2)', 'Number of Rooms',\n",
       "       'Normalized Latitude', 'Normalized Longitude'],\n",
       "      dtype='object')"
      ]
     },
     "execution_count": 4,
     "metadata": {},
     "output_type": "execute_result"
    }
   ],
   "source": [
    "num_data = data._get_numeric_data()\n",
    "num_data.columns"
   ]
  },
  {
   "cell_type": "code",
   "execution_count": 6,
   "metadata": {},
   "outputs": [
    {
     "data": {
      "text/html": [
       "<div>\n",
       "<style scoped>\n",
       "    .dataframe tbody tr th:only-of-type {\n",
       "        vertical-align: middle;\n",
       "    }\n",
       "\n",
       "    .dataframe tbody tr th {\n",
       "        vertical-align: top;\n",
       "    }\n",
       "\n",
       "    .dataframe thead th {\n",
       "        text-align: right;\n",
       "    }\n",
       "</style>\n",
       "<table border=\"1\" class=\"dataframe\">\n",
       "  <thead>\n",
       "    <tr style=\"text-align: right;\">\n",
       "      <th></th>\n",
       "      <th>N</th>\n",
       "      <th>NMISS</th>\n",
       "      <th>SUM</th>\n",
       "      <th>MEAN</th>\n",
       "      <th>MEDIAN</th>\n",
       "      <th>STD</th>\n",
       "      <th>VAR</th>\n",
       "      <th>MIN</th>\n",
       "      <th>P1</th>\n",
       "      <th>P5</th>\n",
       "      <th>P10</th>\n",
       "      <th>P25</th>\n",
       "      <th>P50</th>\n",
       "      <th>P75</th>\n",
       "      <th>P90</th>\n",
       "      <th>P95</th>\n",
       "      <th>P99</th>\n",
       "      <th>MAX</th>\n",
       "    </tr>\n",
       "  </thead>\n",
       "  <tbody>\n",
       "    <tr>\n",
       "      <th>ID</th>\n",
       "      <td>41286.0</td>\n",
       "      <td>0.0</td>\n",
       "      <td>8.522875e+08</td>\n",
       "      <td>20643.500000</td>\n",
       "      <td>20643.50000</td>\n",
       "      <td>11918.385944</td>\n",
       "      <td>1.420479e+08</td>\n",
       "      <td>1.000000</td>\n",
       "      <td>413.850000</td>\n",
       "      <td>2065.25000</td>\n",
       "      <td>4129.500000</td>\n",
       "      <td>10322.25000</td>\n",
       "      <td>20643.50000</td>\n",
       "      <td>30964.750000</td>\n",
       "      <td>37157.500000</td>\n",
       "      <td>39221.75000</td>\n",
       "      <td>40873.150000</td>\n",
       "      <td>4.128600e+04</td>\n",
       "    </tr>\n",
       "    <tr>\n",
       "      <th>Views</th>\n",
       "      <td>41286.0</td>\n",
       "      <td>0.0</td>\n",
       "      <td>1.394202e+07</td>\n",
       "      <td>337.693746</td>\n",
       "      <td>107.00000</td>\n",
       "      <td>954.032943</td>\n",
       "      <td>9.101789e+05</td>\n",
       "      <td>0.000000</td>\n",
       "      <td>8.000000</td>\n",
       "      <td>17.00000</td>\n",
       "      <td>23.000000</td>\n",
       "      <td>40.00000</td>\n",
       "      <td>107.00000</td>\n",
       "      <td>315.000000</td>\n",
       "      <td>790.000000</td>\n",
       "      <td>1312.00000</td>\n",
       "      <td>3459.500000</td>\n",
       "      <td>8.093300e+04</td>\n",
       "    </tr>\n",
       "    <tr>\n",
       "      <th>Price (USD)</th>\n",
       "      <td>41286.0</td>\n",
       "      <td>0.0</td>\n",
       "      <td>3.800869e+09</td>\n",
       "      <td>92061.940367</td>\n",
       "      <td>63000.00000</td>\n",
       "      <td>711009.302503</td>\n",
       "      <td>5.055342e+11</td>\n",
       "      <td>1000.000000</td>\n",
       "      <td>16000.000000</td>\n",
       "      <td>26000.00000</td>\n",
       "      <td>31500.000000</td>\n",
       "      <td>43000.00000</td>\n",
       "      <td>63000.00000</td>\n",
       "      <td>100000.000000</td>\n",
       "      <td>160750.000000</td>\n",
       "      <td>220000.00000</td>\n",
       "      <td>390150.000000</td>\n",
       "      <td>1.000000e+08</td>\n",
       "    </tr>\n",
       "    <tr>\n",
       "      <th>Space (m^2)</th>\n",
       "      <td>41286.0</td>\n",
       "      <td>0.0</td>\n",
       "      <td>4.950989e+06</td>\n",
       "      <td>119.919318</td>\n",
       "      <td>74.00000</td>\n",
       "      <td>1608.810378</td>\n",
       "      <td>2.588271e+06</td>\n",
       "      <td>1.000000</td>\n",
       "      <td>27.846500</td>\n",
       "      <td>36.06250</td>\n",
       "      <td>42.900000</td>\n",
       "      <td>55.00000</td>\n",
       "      <td>74.00000</td>\n",
       "      <td>104.000000</td>\n",
       "      <td>145.000000</td>\n",
       "      <td>180.00000</td>\n",
       "      <td>280.000000</td>\n",
       "      <td>1.330000e+05</td>\n",
       "    </tr>\n",
       "    <tr>\n",
       "      <th>Number of Rooms</th>\n",
       "      <td>41286.0</td>\n",
       "      <td>0.0</td>\n",
       "      <td>1.195590e+05</td>\n",
       "      <td>2.895873</td>\n",
       "      <td>3.00000</td>\n",
       "      <td>1.092604</td>\n",
       "      <td>1.193784e+00</td>\n",
       "      <td>1.000000</td>\n",
       "      <td>1.000000</td>\n",
       "      <td>1.00000</td>\n",
       "      <td>2.000000</td>\n",
       "      <td>2.00000</td>\n",
       "      <td>3.00000</td>\n",
       "      <td>3.000000</td>\n",
       "      <td>4.000000</td>\n",
       "      <td>5.00000</td>\n",
       "      <td>6.000000</td>\n",
       "      <td>9.000000e+00</td>\n",
       "    </tr>\n",
       "    <tr>\n",
       "      <th>Normalized Latitude</th>\n",
       "      <td>41286.0</td>\n",
       "      <td>0.0</td>\n",
       "      <td>3.002109e+06</td>\n",
       "      <td>72.714932</td>\n",
       "      <td>72.24121</td>\n",
       "      <td>8.925298</td>\n",
       "      <td>7.966094e+01</td>\n",
       "      <td>-64.085906</td>\n",
       "      <td>56.081285</td>\n",
       "      <td>65.09502</td>\n",
       "      <td>67.108582</td>\n",
       "      <td>70.54409</td>\n",
       "      <td>72.24121</td>\n",
       "      <td>73.311215</td>\n",
       "      <td>78.752489</td>\n",
       "      <td>79.36113</td>\n",
       "      <td>114.161400</td>\n",
       "      <td>5.218059e+02</td>\n",
       "    </tr>\n",
       "    <tr>\n",
       "      <th>Normalized Longitude</th>\n",
       "      <td>41286.0</td>\n",
       "      <td>0.0</td>\n",
       "      <td>2.048939e+06</td>\n",
       "      <td>49.627928</td>\n",
       "      <td>76.96196</td>\n",
       "      <td>89.190487</td>\n",
       "      <td>7.954943e+03</td>\n",
       "      <td>-517.013104</td>\n",
       "      <td>-238.629452</td>\n",
       "      <td>-236.39915</td>\n",
       "      <td>47.702860</td>\n",
       "      <td>74.56133</td>\n",
       "      <td>76.96196</td>\n",
       "      <td>79.838354</td>\n",
       "      <td>83.687630</td>\n",
       "      <td>87.21895</td>\n",
       "      <td>98.487329</td>\n",
       "      <td>3.238277e+02</td>\n",
       "    </tr>\n",
       "  </tbody>\n",
       "</table>\n",
       "</div>"
      ],
      "text/plain": [
       "                            N  NMISS           SUM          MEAN       MEDIAN  \\\n",
       "ID                    41286.0    0.0  8.522875e+08  20643.500000  20643.50000   \n",
       "Views                 41286.0    0.0  1.394202e+07    337.693746    107.00000   \n",
       "Price (USD)           41286.0    0.0  3.800869e+09  92061.940367  63000.00000   \n",
       "Space (m^2)           41286.0    0.0  4.950989e+06    119.919318     74.00000   \n",
       "Number of Rooms       41286.0    0.0  1.195590e+05      2.895873      3.00000   \n",
       "Normalized Latitude   41286.0    0.0  3.002109e+06     72.714932     72.24121   \n",
       "Normalized Longitude  41286.0    0.0  2.048939e+06     49.627928     76.96196   \n",
       "\n",
       "                                STD           VAR          MIN            P1  \\\n",
       "ID                     11918.385944  1.420479e+08     1.000000    413.850000   \n",
       "Views                    954.032943  9.101789e+05     0.000000      8.000000   \n",
       "Price (USD)           711009.302503  5.055342e+11  1000.000000  16000.000000   \n",
       "Space (m^2)             1608.810378  2.588271e+06     1.000000     27.846500   \n",
       "Number of Rooms            1.092604  1.193784e+00     1.000000      1.000000   \n",
       "Normalized Latitude        8.925298  7.966094e+01   -64.085906     56.081285   \n",
       "Normalized Longitude      89.190487  7.954943e+03  -517.013104   -238.629452   \n",
       "\n",
       "                               P5           P10          P25          P50  \\\n",
       "ID                     2065.25000   4129.500000  10322.25000  20643.50000   \n",
       "Views                    17.00000     23.000000     40.00000    107.00000   \n",
       "Price (USD)           26000.00000  31500.000000  43000.00000  63000.00000   \n",
       "Space (m^2)              36.06250     42.900000     55.00000     74.00000   \n",
       "Number of Rooms           1.00000      2.000000      2.00000      3.00000   \n",
       "Normalized Latitude      65.09502     67.108582     70.54409     72.24121   \n",
       "Normalized Longitude   -236.39915     47.702860     74.56133     76.96196   \n",
       "\n",
       "                                P75            P90           P95  \\\n",
       "ID                     30964.750000   37157.500000   39221.75000   \n",
       "Views                    315.000000     790.000000    1312.00000   \n",
       "Price (USD)           100000.000000  160750.000000  220000.00000   \n",
       "Space (m^2)              104.000000     145.000000     180.00000   \n",
       "Number of Rooms            3.000000       4.000000       5.00000   \n",
       "Normalized Latitude       73.311215      78.752489      79.36113   \n",
       "Normalized Longitude      79.838354      83.687630      87.21895   \n",
       "\n",
       "                                P99           MAX  \n",
       "ID                     40873.150000  4.128600e+04  \n",
       "Views                   3459.500000  8.093300e+04  \n",
       "Price (USD)           390150.000000  1.000000e+08  \n",
       "Space (m^2)              280.000000  1.330000e+05  \n",
       "Number of Rooms            6.000000  9.000000e+00  \n",
       "Normalized Latitude      114.161400  5.218059e+02  \n",
       "Normalized Longitude      98.487329  3.238277e+02  "
      ]
     },
     "execution_count": 6,
     "metadata": {},
     "output_type": "execute_result"
    }
   ],
   "source": [
    "def var_summary(x):\n",
    "    return pd.Series([x.count(), x.isnull().sum(), x.sum(), x.mean(), x.median(),  x.std(), x.var(), x.min(), x.quantile(0.01), x.quantile(0.05),x.quantile(0.10),x.quantile(0.25),x.quantile(0.50),x.quantile(0.75), x.quantile(0.90),x.quantile(0.95), x.quantile(0.99),x.max()], \n",
    "                  index=['N', 'NMISS', 'SUM', 'MEAN','MEDIAN', 'STD', 'VAR', 'MIN', 'P1' , 'P5' ,'P10' ,'P25' ,'P50' ,'P75' ,'P90' ,'P95' ,'P99' ,'MAX'])\n",
    "\n",
    "num_data.apply(lambda x: var_summary(x)).T"
   ]
  },
  {
   "cell_type": "code",
   "execution_count": 23,
   "metadata": {},
   "outputs": [
    {
     "data": {
      "text/plain": [
       "<AxesSubplot:xlabel='ID'>"
      ]
     },
     "execution_count": 23,
     "metadata": {},
     "output_type": "execute_result"
    },
    {
     "data": {
      "image/png": "[encoded data removed]",
      "text/plain": [
       "<Figure size 432x288 with 1 Axes>"
      ]
     },
     "metadata": {
      "needs_background": "light"
     },
     "output_type": "display_data"
    }
   ],
   "source": [
    "sns.boxplot(x=num_data.ID)"
   ]
  },
  {
   "cell_type": "code",
   "execution_count": 25,
   "metadata": {},
   "outputs": [
    {
     "data": {
      "text/plain": [
       "<AxesSubplot:xlabel='Views'>"
      ]
     },
     "execution_count": 25,
     "metadata": {},
     "output_type": "execute_result"
    },
    {
     "data": {
      "image/png": "[encoded data removed]",
      "text/plain": [
       "<Figure size 432x288 with 1 Axes>"
      ]
     },
     "metadata": {
      "needs_background": "light"
     },
     "output_type": "display_data"
    }
   ],
   "source": [
    "sns.boxplot(x=num_data.Views)"
   ]
  },
  {
   "cell_type": "code",
   "execution_count": 26,
   "metadata": {},
   "outputs": [
    {
     "data": {
      "text/plain": [
       "<AxesSubplot:xlabel='Price (USD)'>"
      ]
     },
     "execution_count": 26,
     "metadata": {},
     "output_type": "execute_result"
    },
    {
     "data": {
      "image/png": "[encoded data removed]",
      "text/plain": [
       "<Figure size 432x288 with 1 Axes>"
      ]
     },
     "metadata": {
      "needs_background": "light"
     },
     "output_type": "display_data"
    }
   ],
   "source": [
    "sns.boxplot(x=num_data['Price (USD)'])"
   ]
  },
  {
   "cell_type": "code",
   "execution_count": 27,
   "metadata": {},
   "outputs": [
    {
     "data": {
      "text/plain": [
       "<AxesSubplot:xlabel='Space (m^2)'>"
      ]
     },
     "execution_count": 27,
     "metadata": {},
     "output_type": "execute_result"
    },
    {
     "data": {
      "image/png": "[encoded data removed]",
      "text/plain": [
       "<Figure size 432x288 with 1 Axes>"
      ]
     },
     "metadata": {
      "needs_background": "light"
     },
     "output_type": "display_data"
    }
   ],
   "source": [
    "sns.boxplot(x=num_data['Space (m^2)'])"
   ]
  },
  {
   "cell_type": "code",
   "execution_count": 28,
   "metadata": {},
   "outputs": [
    {
     "data": {
      "text/plain": [
       "<AxesSubplot:xlabel='Number of Rooms'>"
      ]
     },
     "execution_count": 28,
     "metadata": {},
     "output_type": "execute_result"
    },
    {
     "data": {
      "image/png": "[encoded data removed]",
      "text/plain": [
       "<Figure size 432x288 with 1 Axes>"
      ]
     },
     "metadata": {
      "needs_background": "light"
     },
     "output_type": "display_data"
    }
   ],
   "source": [
    "sns.boxplot(x=num_data['Number of Rooms'])"
   ]
  },
  {
   "cell_type": "code",
   "execution_count": 29,
   "metadata": {},
   "outputs": [
    {
     "data": {
      "text/plain": [
       "<AxesSubplot:xlabel='Normalized Latitude'>"
      ]
     },
     "execution_count": 29,
     "metadata": {},
     "output_type": "execute_result"
    },
    {
     "data": {
      "image/png": "[encoded data removed]",
      "text/plain": [
       "<Figure size 432x288 with 1 Axes>"
      ]
     },
     "metadata": {
      "needs_background": "light"
     },
     "output_type": "display_data"
    }
   ],
   "source": [
    "sns.boxplot(x=num_data[\"Normalized Latitude\"])"
   ]
  },
  {
   "cell_type": "code",
   "execution_count": 30,
   "metadata": {},
   "outputs": [
    {
     "data": {
      "text/plain": [
       "<AxesSubplot:xlabel='Normalized Longitude'>"
      ]
     },
     "execution_count": 30,
     "metadata": {},
     "output_type": "execute_result"
    },
    {
     "data": {
      "image/png": "[encoded data removed]",
      "text/plain": [
       "<Figure size 432x288 with 1 Axes>"
      ]
     },
     "metadata": {
      "needs_background": "light"
     },
     "output_type": "display_data"
    }
   ],
   "source": [
    "sns.boxplot(x=num_data[\"Normalized Longitude\"])"
   ]
  },
  {
   "cell_type": "code",
   "execution_count": 31,
   "metadata": {},
   "outputs": [
    {
     "data": {
      "text/plain": [
       "<AxesSubplot:>"
      ]
     },
     "execution_count": 31,
     "metadata": {},
     "output_type": "execute_result"
    },
    {
     "data": {
      "image/png": "[encoded data removed]",
      "text/plain": [
       "<Figure size 936x720 with 2 Axes>"
      ]
     },
     "metadata": {
      "needs_background": "light"
     },
     "output_type": "display_data"
    }
   ],
   "source": [
    "num_corr = num_data.corr()\n",
    "plt.subplots(figsize=(13,10))\n",
    "sns.heatmap(num_corr,vmax =.8 ,square = True)"
   ]
  },
  {
   "cell_type": "code",
   "execution_count": null,
   "metadata": {},
   "outputs": [],
   "source": []
  }
 ],
 "metadata": {
  "interpreter": {
   "hash": "4d68ed94e3a7a6b0032e15b62172d42c04cd4d1b84099ed615d840456e1778b6"
  },
  "kernelspec": {
   "display_name": "Python 3.8.8 64-bit ('base': conda)",
   "language": "python",
   "name": "python3"
  },
  "language_info": {
   "codemirror_mode": {
    "name": "ipython",
    "version": 3
   },
   "file_extension": ".py",
   "mimetype": "text/x-python",
   "name": "python",
   "nbconvert_exporter": "python",
   "pygments_lexer": "ipython3",
   "version": "3.8.8"
  },
  "orig_nbformat": 4
 },
 "nbformat": 4,
 "nbformat_minor": 2
}
