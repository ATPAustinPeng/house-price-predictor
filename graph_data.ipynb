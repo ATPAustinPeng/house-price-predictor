{
 "cells": [
  {
   "cell_type": "code",
   "execution_count": 32,
   "metadata": {},
   "outputs": [],
   "source": [
    "import numpy as np\n",
    "import pandas as pd\n",
    "from matplotlib import pyplot as plt\n",
    "import seaborn as sns\n",
    "%matplotlib inline"
   ]
  },
  {
   "cell_type": "code",
   "execution_count": 33,
   "metadata": {},
   "outputs": [
    {
     "name": "stdout",
     "output_type": "stream",
     "text": [
      "<class 'pandas.core.frame.DataFrame'>\n",
      "RangeIndex: 41198 entries, 0 to 41197\n",
      "Data columns (total 7 columns):\n",
      " #   Column                Non-Null Count  Dtype  \n",
      "---  ------                --------------  -----  \n",
      " 0   ID                    41198 non-null  int64  \n",
      " 1   Views                 41198 non-null  int64  \n",
      " 2   Price (USD)           41198 non-null  int64  \n",
      " 3   Space (m^2)           41198 non-null  float64\n",
      " 4   Number of Rooms       41198 non-null  int64  \n",
      " 5   Normalized Latitude   41198 non-null  float64\n",
      " 6   Normalized Longitude  41198 non-null  float64\n",
      "dtypes: float64(3), int64(4)\n",
      "memory usage: 2.2 MB\n"
     ]
    }
   ],
   "source": [
    "data = pd.read_csv(\"./clean_data.csv\")\n",
    "data.info()"
   ]
  },
  {
   "cell_type": "code",
   "execution_count": 34,
   "metadata": {},
   "outputs": [
    {
     "data": {
      "text/plain": [
       "Index(['ID', 'Views', 'Price (USD)', 'Space (m^2)', 'Number of Rooms',\n",
       "       'Normalized Latitude', 'Normalized Longitude'],\n",
       "      dtype='object')"
      ]
     },
     "execution_count": 34,
     "metadata": {},
     "output_type": "execute_result"
    }
   ],
   "source": [
    "num_data = data._get_numeric_data()\n",
    "num_data.columns"
   ]
  },
  {
   "cell_type": "code",
   "execution_count": 35,
   "metadata": {},
   "outputs": [
    {
     "data": {
      "text/html": [
       "<div>\n",
       "<style scoped>\n",
       "    .dataframe tbody tr th:only-of-type {\n",
       "        vertical-align: middle;\n",
       "    }\n",
       "\n",
       "    .dataframe tbody tr th {\n",
       "        vertical-align: top;\n",
       "    }\n",
       "\n",
       "    .dataframe thead th {\n",
       "        text-align: right;\n",
       "    }\n",
       "</style>\n",
       "<table border=\"1\" class=\"dataframe\">\n",
       "  <thead>\n",
       "    <tr style=\"text-align: right;\">\n",
       "      <th></th>\n",
       "      <th>N</th>\n",
       "      <th>NMISS</th>\n",
       "      <th>SUM</th>\n",
       "      <th>MEAN</th>\n",
       "      <th>MEDIAN</th>\n",
       "      <th>STD</th>\n",
       "      <th>VAR</th>\n",
       "      <th>MIN</th>\n",
       "      <th>P1</th>\n",
       "      <th>P5</th>\n",
       "      <th>P10</th>\n",
       "      <th>P25</th>\n",
       "      <th>P50</th>\n",
       "      <th>P75</th>\n",
       "      <th>P90</th>\n",
       "      <th>P95</th>\n",
       "      <th>P99</th>\n",
       "      <th>MAX</th>\n",
       "    </tr>\n",
       "  </thead>\n",
       "  <tbody>\n",
       "    <tr>\n",
       "      <th>ID</th>\n",
       "      <td>41198.0</td>\n",
       "      <td>0.0</td>\n",
       "      <td>8.486582e+08</td>\n",
       "      <td>20599.500000</td>\n",
       "      <td>20599.50000</td>\n",
       "      <td>11892.982532</td>\n",
       "      <td>1.414430e+08</td>\n",
       "      <td>1.000000</td>\n",
       "      <td>412.970000</td>\n",
       "      <td>2060.85000</td>\n",
       "      <td>4120.70000</td>\n",
       "      <td>10300.25000</td>\n",
       "      <td>20599.50000</td>\n",
       "      <td>30898.750000</td>\n",
       "      <td>37078.30000</td>\n",
       "      <td>39138.15000</td>\n",
       "      <td>40786.03000</td>\n",
       "      <td>41198.000000</td>\n",
       "    </tr>\n",
       "    <tr>\n",
       "      <th>Views</th>\n",
       "      <td>41198.0</td>\n",
       "      <td>0.0</td>\n",
       "      <td>1.389794e+07</td>\n",
       "      <td>337.344920</td>\n",
       "      <td>107.00000</td>\n",
       "      <td>953.300758</td>\n",
       "      <td>9.087823e+05</td>\n",
       "      <td>0.000000</td>\n",
       "      <td>8.000000</td>\n",
       "      <td>17.00000</td>\n",
       "      <td>23.00000</td>\n",
       "      <td>40.00000</td>\n",
       "      <td>107.00000</td>\n",
       "      <td>315.000000</td>\n",
       "      <td>790.00000</td>\n",
       "      <td>1311.00000</td>\n",
       "      <td>3452.18000</td>\n",
       "      <td>80933.000000</td>\n",
       "    </tr>\n",
       "    <tr>\n",
       "      <th>Price (USD)</th>\n",
       "      <td>41198.0</td>\n",
       "      <td>0.0</td>\n",
       "      <td>3.502872e+09</td>\n",
       "      <td>85025.299286</td>\n",
       "      <td>63000.00000</td>\n",
       "      <td>71862.311048</td>\n",
       "      <td>5.164192e+09</td>\n",
       "      <td>1000.000000</td>\n",
       "      <td>16000.000000</td>\n",
       "      <td>26000.00000</td>\n",
       "      <td>31500.00000</td>\n",
       "      <td>43000.00000</td>\n",
       "      <td>63000.00000</td>\n",
       "      <td>100000.000000</td>\n",
       "      <td>160000.00000</td>\n",
       "      <td>220000.00000</td>\n",
       "      <td>380000.00000</td>\n",
       "      <td>943000.000000</td>\n",
       "    </tr>\n",
       "    <tr>\n",
       "      <th>Space (m^2)</th>\n",
       "      <td>41198.0</td>\n",
       "      <td>0.0</td>\n",
       "      <td>3.569523e+06</td>\n",
       "      <td>86.643113</td>\n",
       "      <td>74.00000</td>\n",
       "      <td>49.789347</td>\n",
       "      <td>2.478979e+03</td>\n",
       "      <td>12.000000</td>\n",
       "      <td>28.000000</td>\n",
       "      <td>36.27650</td>\n",
       "      <td>43.00000</td>\n",
       "      <td>55.00000</td>\n",
       "      <td>74.00000</td>\n",
       "      <td>103.000000</td>\n",
       "      <td>145.00000</td>\n",
       "      <td>177.00000</td>\n",
       "      <td>270.00000</td>\n",
       "      <td>593.000000</td>\n",
       "    </tr>\n",
       "    <tr>\n",
       "      <th>Number of Rooms</th>\n",
       "      <td>41198.0</td>\n",
       "      <td>0.0</td>\n",
       "      <td>1.192440e+05</td>\n",
       "      <td>2.894412</td>\n",
       "      <td>3.00000</td>\n",
       "      <td>1.088714</td>\n",
       "      <td>1.185297e+00</td>\n",
       "      <td>1.000000</td>\n",
       "      <td>1.000000</td>\n",
       "      <td>1.00000</td>\n",
       "      <td>2.00000</td>\n",
       "      <td>2.00000</td>\n",
       "      <td>3.00000</td>\n",
       "      <td>3.000000</td>\n",
       "      <td>4.00000</td>\n",
       "      <td>5.00000</td>\n",
       "      <td>6.00000</td>\n",
       "      <td>9.000000</td>\n",
       "    </tr>\n",
       "    <tr>\n",
       "      <th>Normalized Latitude</th>\n",
       "      <td>41198.0</td>\n",
       "      <td>0.0</td>\n",
       "      <td>2.995405e+06</td>\n",
       "      <td>72.707541</td>\n",
       "      <td>72.24121</td>\n",
       "      <td>8.896685</td>\n",
       "      <td>7.915101e+01</td>\n",
       "      <td>-64.085906</td>\n",
       "      <td>56.081285</td>\n",
       "      <td>65.09502</td>\n",
       "      <td>67.12502</td>\n",
       "      <td>70.54409</td>\n",
       "      <td>72.24121</td>\n",
       "      <td>73.296647</td>\n",
       "      <td>78.74621</td>\n",
       "      <td>79.36113</td>\n",
       "      <td>114.16140</td>\n",
       "      <td>521.805855</td>\n",
       "    </tr>\n",
       "    <tr>\n",
       "      <th>Normalized Longitude</th>\n",
       "      <td>41198.0</td>\n",
       "      <td>0.0</td>\n",
       "      <td>2.047406e+06</td>\n",
       "      <td>49.696725</td>\n",
       "      <td>76.96196</td>\n",
       "      <td>89.096745</td>\n",
       "      <td>7.938230e+03</td>\n",
       "      <td>-517.013104</td>\n",
       "      <td>-238.629452</td>\n",
       "      <td>-236.39915</td>\n",
       "      <td>47.70286</td>\n",
       "      <td>74.56133</td>\n",
       "      <td>76.96196</td>\n",
       "      <td>79.838354</td>\n",
       "      <td>83.68763</td>\n",
       "      <td>87.21895</td>\n",
       "      <td>98.48214</td>\n",
       "      <td>323.827719</td>\n",
       "    </tr>\n",
       "  </tbody>\n",
       "</table>\n",
       "</div>"
      ],
      "text/plain": [
       "                            N  NMISS           SUM          MEAN       MEDIAN  \\\n",
       "ID                    41198.0    0.0  8.486582e+08  20599.500000  20599.50000   \n",
       "Views                 41198.0    0.0  1.389794e+07    337.344920    107.00000   \n",
       "Price (USD)           41198.0    0.0  3.502872e+09  85025.299286  63000.00000   \n",
       "Space (m^2)           41198.0    0.0  3.569523e+06     86.643113     74.00000   \n",
       "Number of Rooms       41198.0    0.0  1.192440e+05      2.894412      3.00000   \n",
       "Normalized Latitude   41198.0    0.0  2.995405e+06     72.707541     72.24121   \n",
       "Normalized Longitude  41198.0    0.0  2.047406e+06     49.696725     76.96196   \n",
       "\n",
       "                               STD           VAR          MIN            P1  \\\n",
       "ID                    11892.982532  1.414430e+08     1.000000    412.970000   \n",
       "Views                   953.300758  9.087823e+05     0.000000      8.000000   \n",
       "Price (USD)           71862.311048  5.164192e+09  1000.000000  16000.000000   \n",
       "Space (m^2)              49.789347  2.478979e+03    12.000000     28.000000   \n",
       "Number of Rooms           1.088714  1.185297e+00     1.000000      1.000000   \n",
       "Normalized Latitude       8.896685  7.915101e+01   -64.085906     56.081285   \n",
       "Normalized Longitude     89.096745  7.938230e+03  -517.013104   -238.629452   \n",
       "\n",
       "                               P5          P10          P25          P50  \\\n",
       "ID                     2060.85000   4120.70000  10300.25000  20599.50000   \n",
       "Views                    17.00000     23.00000     40.00000    107.00000   \n",
       "Price (USD)           26000.00000  31500.00000  43000.00000  63000.00000   \n",
       "Space (m^2)              36.27650     43.00000     55.00000     74.00000   \n",
       "Number of Rooms           1.00000      2.00000      2.00000      3.00000   \n",
       "Normalized Latitude      65.09502     67.12502     70.54409     72.24121   \n",
       "Normalized Longitude   -236.39915     47.70286     74.56133     76.96196   \n",
       "\n",
       "                                P75           P90           P95           P99  \\\n",
       "ID                     30898.750000   37078.30000   39138.15000   40786.03000   \n",
       "Views                    315.000000     790.00000    1311.00000    3452.18000   \n",
       "Price (USD)           100000.000000  160000.00000  220000.00000  380000.00000   \n",
       "Space (m^2)              103.000000     145.00000     177.00000     270.00000   \n",
       "Number of Rooms            3.000000       4.00000       5.00000       6.00000   \n",
       "Normalized Latitude       73.296647      78.74621      79.36113     114.16140   \n",
       "Normalized Longitude      79.838354      83.68763      87.21895      98.48214   \n",
       "\n",
       "                                MAX  \n",
       "ID                     41198.000000  \n",
       "Views                  80933.000000  \n",
       "Price (USD)           943000.000000  \n",
       "Space (m^2)              593.000000  \n",
       "Number of Rooms            9.000000  \n",
       "Normalized Latitude      521.805855  \n",
       "Normalized Longitude     323.827719  "
      ]
     },
     "execution_count": 35,
     "metadata": {},
     "output_type": "execute_result"
    }
   ],
   "source": [
    "def var_summary(x):\n",
    "    return pd.Series([x.count(), x.isnull().sum(), x.sum(), x.mean(), x.median(),  x.std(), x.var(), x.min(), x.quantile(0.01), x.quantile(0.05),x.quantile(0.10),x.quantile(0.25),x.quantile(0.50),x.quantile(0.75), x.quantile(0.90),x.quantile(0.95), x.quantile(0.99),x.max()], \n",
    "                  index=['N', 'NMISS', 'SUM', 'MEAN','MEDIAN', 'STD', 'VAR', 'MIN', 'P1' , 'P5' ,'P10' ,'P25' ,'P50' ,'P75' ,'P90' ,'P95' ,'P99' ,'MAX'])\n",
    "\n",
    "num_data.apply(lambda x: var_summary(x)).T"
   ]
  },
  {
   "cell_type": "code",
   "execution_count": 38,
   "metadata": {},
   "outputs": [
    {
     "data": {
      "text/plain": [
       "<AxesSubplot:xlabel='Price (USD)'>"
      ]
     },
     "execution_count": 38,
     "metadata": {},
     "output_type": "execute_result"
    },
    {
     "data": {
      "image/png": "[encoded data removed]",
      "text/plain": [
       "<Figure size 432x288 with 1 Axes>"
      ]
     },
     "metadata": {
      "needs_background": "light"
     },
     "output_type": "display_data"
    }
   ],
   "source": [
    "sns.boxplot(x=num_data['Price (USD)'])"
   ]
  },
  {
   "cell_type": "code",
   "execution_count": 39,
   "metadata": {},
   "outputs": [
    {
     "data": {
      "text/plain": [
       "<AxesSubplot:xlabel='Space (m^2)'>"
      ]
     },
     "execution_count": 39,
     "metadata": {},
     "output_type": "execute_result"
    },
    {
     "data": {
      "image/png": "[encoded data removed]",
      "text/plain": [
       "<Figure size 432x288 with 1 Axes>"
      ]
     },
     "metadata": {
      "needs_background": "light"
     },
     "output_type": "display_data"
    }
   ],
   "source": [
    "sns.boxplot(x=num_data['Space (m^2)'])"
   ]
  },
  {
   "cell_type": "code",
   "execution_count": 40,
   "metadata": {},
   "outputs": [
    {
     "data": {
      "text/plain": [
       "<AxesSubplot:xlabel='Number of Rooms'>"
      ]
     },
     "execution_count": 40,
     "metadata": {},
     "output_type": "execute_result"
    },
    {
     "data": {
      "image/png": "[encoded data removed]",
      "text/plain": [
       "<Figure size 432x288 with 1 Axes>"
      ]
     },
     "metadata": {
      "needs_background": "light"
     },
     "output_type": "display_data"
    }
   ],
   "source": [
    "sns.boxplot(x=num_data['Number of Rooms'])"
   ]
  },
  {
   "cell_type": "code",
   "execution_count": 41,
   "metadata": {},
   "outputs": [
    {
     "data": {
      "text/plain": [
       "<AxesSubplot:xlabel='Normalized Latitude'>"
      ]
     },
     "execution_count": 41,
     "metadata": {},
     "output_type": "execute_result"
    },
    {
     "data": {
      "image/png": "[encoded data removed]",
      "text/plain": [
       "<Figure size 432x288 with 1 Axes>"
      ]
     },
     "metadata": {
      "needs_background": "light"
     },
     "output_type": "display_data"
    }
   ],
   "source": [
    "sns.boxplot(x=num_data[\"Normalized Latitude\"])"
   ]
  },
  {
   "cell_type": "code",
   "execution_count": 42,
   "metadata": {},
   "outputs": [
    {
     "data": {
      "text/plain": [
       "<AxesSubplot:xlabel='Normalized Longitude'>"
      ]
     },
     "execution_count": 42,
     "metadata": {},
     "output_type": "execute_result"
    },
    {
     "data": {
      "image/png": "[encoded data removed]",
      "text/plain": [
       "<Figure size 432x288 with 1 Axes>"
      ]
     },
     "metadata": {
      "needs_background": "light"
     },
     "output_type": "display_data"
    }
   ],
   "source": [
    "sns.boxplot(x=num_data[\"Normalized Longitude\"])"
   ]
  },
  {
   "cell_type": "code",
   "execution_count": 43,
   "metadata": {},
   "outputs": [
    {
     "data": {
      "text/plain": [
       "<AxesSubplot:>"
      ]
     },
     "execution_count": 43,
     "metadata": {},
     "output_type": "execute_result"
    },
    {
     "data": {
      "image/png": "[encoded data removed]",
      "text/plain": [
       "<Figure size 936x720 with 2 Axes>"
      ]
     },
     "metadata": {
      "needs_background": "light"
     },
     "output_type": "display_data"
    }
   ],
   "source": [
    "num_corr = num_data.corr()\n",
    "plt.subplots(figsize=(13,10))\n",
    "sns.heatmap(num_corr,vmax =.8 ,square = True)"
   ]
  },
  {
   "cell_type": "code",
   "execution_count": null,
   "metadata": {},
   "outputs": [],
   "source": []
  },
  {
   "cell_type": "code",
   "execution_count": null,
   "metadata": {},
   "outputs": [],
   "source": []
  }
 ],
 "metadata": {
  "interpreter": {
   "hash": "4d68ed94e3a7a6b0032e15b62172d42c04cd4d1b84099ed615d840456e1778b6"
  },
  "kernelspec": {
   "display_name": "Python 3.8.8 64-bit ('base': conda)",
   "language": "python",
   "name": "python3"
  },
  "language_info": {
   "codemirror_mode": {
    "name": "ipython",
    "version": 3
   },
   "file_extension": ".py",
   "mimetype": "text/x-python",
   "name": "python",
   "nbconvert_exporter": "python",
   "pygments_lexer": "ipython3",
   "version": "3.8.8"
  },
  "orig_nbformat": 4
 },
 "nbformat": 4,
 "nbformat_minor": 2
}
