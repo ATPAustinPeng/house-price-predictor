{
  "nbformat": 4,
  "nbformat_minor": 0,
  "metadata": {
    "colab": {
      "name": "FinalProject.ipynb",
      "provenance": [],
      "collapsed_sections": []
    },
    "kernelspec": {
      "name": "python3",
      "display_name": "Python 3"
    },
    "language_info": {
      "name": "python"
    }
  },
  "cells": [
    {
      "cell_type": "code",
      "metadata": {
        "id": "qkVnUoa6LCyi"
      },
      "source": [
        "from __future__ import print_function\n",
        "import tensorflow as tf\n",
        "from tensorflow.keras.datasets import fashion_mnist\n",
        "from tensorflow.keras.models import Sequential\n",
        "from tensorflow.keras.layers import Conv2D, MaxPooling2D, Flatten, Dense, Activation, Dropout\n",
        "from tensorflow.keras.layers import LeakyReLU\n",
        "from sklearn.utils import shuffle\n",
        "import numpy as np\n",
        "import matplotlib.pyplot as plt\n",
        "from sklearn.model_selection import train_test_split\n",
        "from sklearn.preprocessing import StandardScaler\n",
        "from sklearn.linear_model import LinearRegression \n",
        "from sklearn.metrics import r2_score\n",
        "import pandas as pd\n",
        "from sklearn.metrics import mean_squared_error, r2_score\n",
        "from tensorflow.keras.utils import to_categorical\n",
        "\n"
      ],
      "execution_count": 1,
      "outputs": []
    },
    {
      "cell_type": "code",
      "metadata": {
        "colab": {
          "base_uri": "https://localhost:8080/"
        },
        "id": "-QPeo3CT8jCj",
        "outputId": "b4ba7a60-eaf7-456b-daee-5ea965826148"
      },
      "source": [
        "import csv\n",
        "csvFile = []\n",
        "data = []\n",
        "with open('clean_data.csv', mode ='r', encoding = 'UTF-8') as file:     \n",
        "    csvFile = csv.reader(file) \n",
        "    count = 0\n",
        "    for line in csvFile:\n",
        "        if count != 0:\n",
        "            data.append(line)\n",
        "        count+=1\n",
        "data = np.array(data)\n",
        "data = np.float32(data)\n",
        "\n",
        "dataDf = pd.DataFrame(data, columns = ['price','space', 'rooms', 'bedrooms', 'furniture', 'latitude', 'longitude'])\n",
        "features = ['space', 'rooms']\n",
        "# target = dataDf.loc[:, ['price']].values\n",
        "feats = dataDf.loc[:, features].values\n",
        "feats = StandardScaler().fit_transform(feats)\n",
        "price = dataDf['price']\n",
        "\n",
        "model = Sequential()\n",
        "model.add(Dense(2, input_dim=2, activation='relu'))\n",
        "model.add(Dense(12, activation='relu'))\n",
        "model.add(Dense(20, activation='relu'))\n",
        "model.add(Dense(40, activation='relu'))\n",
        "model.add(Dense(10, activation='relu'))\n",
        "model.add(Dense(2, activation='relu'))\n",
        "model.add(Dense(1, activation='relu'))\n",
        "model.summary()\n",
        "# print(model)\n",
        "# compile the keras model\n"
      ],
      "execution_count": 16,
      "outputs": [
        {
          "output_type": "stream",
          "name": "stdout",
          "text": [
            "Model: \"sequential_7\"\n",
            "_________________________________________________________________\n",
            " Layer (type)                Output Shape              Param #   \n",
            "=================================================================\n",
            " dense_49 (Dense)            (None, 2)                 6         \n",
            "                                                                 \n",
            " dense_50 (Dense)            (None, 12)                36        \n",
            "                                                                 \n",
            " dense_51 (Dense)            (None, 20)                260       \n",
            "                                                                 \n",
            " dense_52 (Dense)            (None, 40)                840       \n",
            "                                                                 \n",
            " dense_53 (Dense)            (None, 10)                410       \n",
            "                                                                 \n",
            " dense_54 (Dense)            (None, 2)                 22        \n",
            "                                                                 \n",
            " dense_55 (Dense)            (None, 1)                 3         \n",
            "                                                                 \n",
            "=================================================================\n",
            "Total params: 1,577\n",
            "Trainable params: 1,577\n",
            "Non-trainable params: 0\n",
            "_________________________________________________________________\n"
          ]
        }
      ]
    },
    {
      "cell_type": "code",
      "metadata": {
        "colab": {
          "base_uri": "https://localhost:8080/"
        },
        "id": "tA3zmyxa-HGz",
        "outputId": "b1f85007-f789-411d-8ef9-e10cf34bcacc"
      },
      "source": [
        "tf.keras.backend.set_epsilon(1)\n",
        "model.compile(loss=tf.keras.losses.mean_squared_logarithmic_error, optimizer='adam', metrics=['mape'])\n",
        "# fit the keras model on the dataset\n",
        "history = model.fit(feats, price, epochs=50, batch_size=10)\n",
        "# evaluate the keras model\n",
        "accuracy = model.evaluate(feats, price)\n",
        "print(feats)"
      ],
      "execution_count": 17,
      "outputs": [
        {
          "output_type": "stream",
          "name": "stdout",
          "text": [
            "Epoch 1/50\n",
            "4035/4035 [==============================] - 8s 2ms/step - loss: 7.9264 - mape: 57.9700\n",
            "Epoch 2/50\n",
            "4035/4035 [==============================] - 7s 2ms/step - loss: 0.1521 - mape: 32.9727\n",
            "Epoch 3/50\n",
            "4035/4035 [==============================] - 7s 2ms/step - loss: 0.1408 - mape: 31.5907\n",
            "Epoch 4/50\n",
            "4035/4035 [==============================] - 7s 2ms/step - loss: 0.1395 - mape: 31.4019\n",
            "Epoch 5/50\n",
            "4035/4035 [==============================] - 7s 2ms/step - loss: 0.1389 - mape: 31.3315\n",
            "Epoch 6/50\n",
            "4035/4035 [==============================] - 7s 2ms/step - loss: 0.1385 - mape: 31.2486\n",
            "Epoch 7/50\n",
            "4035/4035 [==============================] - 7s 2ms/step - loss: 0.1384 - mape: 31.2205\n",
            "Epoch 8/50\n",
            "4035/4035 [==============================] - 7s 2ms/step - loss: 0.1383 - mape: 31.1668\n",
            "Epoch 9/50\n",
            "4035/4035 [==============================] - 7s 2ms/step - loss: 0.1382 - mape: 31.1645\n",
            "Epoch 10/50\n",
            "4035/4035 [==============================] - 7s 2ms/step - loss: 0.1381 - mape: 31.1470\n",
            "Epoch 11/50\n",
            "4035/4035 [==============================] - 8s 2ms/step - loss: 0.1380 - mape: 31.1200\n",
            "Epoch 12/50\n",
            "4035/4035 [==============================] - 7s 2ms/step - loss: 0.1381 - mape: 31.1361\n",
            "Epoch 13/50\n",
            "4035/4035 [==============================] - 7s 2ms/step - loss: 0.1380 - mape: 31.1366\n",
            "Epoch 14/50\n",
            "4035/4035 [==============================] - 7s 2ms/step - loss: 0.1381 - mape: 31.1104\n",
            "Epoch 15/50\n",
            "4035/4035 [==============================] - 7s 2ms/step - loss: 0.1381 - mape: 31.1253\n",
            "Epoch 16/50\n",
            "4035/4035 [==============================] - 7s 2ms/step - loss: 0.1380 - mape: 31.1161\n",
            "Epoch 17/50\n",
            "4035/4035 [==============================] - 7s 2ms/step - loss: 0.1381 - mape: 31.1374\n",
            "Epoch 18/50\n",
            "4035/4035 [==============================] - 7s 2ms/step - loss: 0.1380 - mape: 31.1331\n",
            "Epoch 19/50\n",
            "4035/4035 [==============================] - 7s 2ms/step - loss: 0.1381 - mape: 31.1359\n",
            "Epoch 20/50\n",
            "4035/4035 [==============================] - 7s 2ms/step - loss: 0.1381 - mape: 31.1318\n",
            "Epoch 21/50\n",
            "4035/4035 [==============================] - 7s 2ms/step - loss: 0.1381 - mape: 31.1345\n",
            "Epoch 22/50\n",
            "4035/4035 [==============================] - 8s 2ms/step - loss: 0.1381 - mape: 31.1147\n",
            "Epoch 23/50\n",
            "4035/4035 [==============================] - 8s 2ms/step - loss: 0.1381 - mape: 31.1442\n",
            "Epoch 24/50\n",
            "4035/4035 [==============================] - 8s 2ms/step - loss: 0.1380 - mape: 31.1069\n",
            "Epoch 25/50\n",
            "4035/4035 [==============================] - 8s 2ms/step - loss: 0.1381 - mape: 31.1218\n",
            "Epoch 26/50\n",
            "4035/4035 [==============================] - 8s 2ms/step - loss: 0.1381 - mape: 31.1223\n",
            "Epoch 27/50\n",
            "4035/4035 [==============================] - 7s 2ms/step - loss: 0.1381 - mape: 31.1298\n",
            "Epoch 28/50\n",
            "4035/4035 [==============================] - 8s 2ms/step - loss: 0.1381 - mape: 31.1432\n",
            "Epoch 29/50\n",
            "4035/4035 [==============================] - 8s 2ms/step - loss: 0.1380 - mape: 31.1191\n",
            "Epoch 30/50\n",
            "4035/4035 [==============================] - 8s 2ms/step - loss: 0.1381 - mape: 31.1259\n",
            "Epoch 31/50\n",
            "4035/4035 [==============================] - 7s 2ms/step - loss: 0.1381 - mape: 31.1464\n",
            "Epoch 32/50\n",
            "4035/4035 [==============================] - 7s 2ms/step - loss: 0.1380 - mape: 31.1065\n",
            "Epoch 33/50\n",
            "4035/4035 [==============================] - 8s 2ms/step - loss: 0.1381 - mape: 31.1326\n",
            "Epoch 34/50\n",
            "4035/4035 [==============================] - 7s 2ms/step - loss: 0.1381 - mape: 31.1425\n",
            "Epoch 35/50\n",
            "4035/4035 [==============================] - 8s 2ms/step - loss: 0.1380 - mape: 31.1305\n",
            "Epoch 36/50\n",
            "4035/4035 [==============================] - 7s 2ms/step - loss: 0.1380 - mape: 31.1104\n",
            "Epoch 37/50\n",
            "4035/4035 [==============================] - 7s 2ms/step - loss: 0.1380 - mape: 31.1107\n",
            "Epoch 38/50\n",
            "4035/4035 [==============================] - 8s 2ms/step - loss: 0.1380 - mape: 31.1173\n",
            "Epoch 39/50\n",
            "4035/4035 [==============================] - 7s 2ms/step - loss: 0.1380 - mape: 31.1276\n",
            "Epoch 40/50\n",
            "4035/4035 [==============================] - 7s 2ms/step - loss: 0.1381 - mape: 31.1373\n",
            "Epoch 41/50\n",
            "4035/4035 [==============================] - 8s 2ms/step - loss: 0.1380 - mape: 31.1250\n",
            "Epoch 42/50\n",
            "4035/4035 [==============================] - 8s 2ms/step - loss: 0.1379 - mape: 31.1033\n",
            "Epoch 43/50\n",
            "4035/4035 [==============================] - 8s 2ms/step - loss: 0.1380 - mape: 31.1244\n",
            "Epoch 44/50\n",
            "4035/4035 [==============================] - 7s 2ms/step - loss: 0.1380 - mape: 31.1291\n",
            "Epoch 45/50\n",
            "4035/4035 [==============================] - 8s 2ms/step - loss: 0.1380 - mape: 31.1228\n",
            "Epoch 46/50\n",
            "4035/4035 [==============================] - 8s 2ms/step - loss: 0.1380 - mape: 31.1311\n",
            "Epoch 47/50\n",
            "4035/4035 [==============================] - 7s 2ms/step - loss: 0.1379 - mape: 31.0872\n",
            "Epoch 48/50\n",
            "4035/4035 [==============================] - 7s 2ms/step - loss: 0.1380 - mape: 31.1140\n",
            "Epoch 49/50\n",
            "4035/4035 [==============================] - 8s 2ms/step - loss: 0.1379 - mape: 31.1072\n",
            "Epoch 50/50\n",
            "4035/4035 [==============================] - 8s 2ms/step - loss: 0.1379 - mape: 31.1043\n",
            "1261/1261 [==============================] - 2s 1ms/step - loss: 0.1375 - mape: 30.9641\n",
            "[[-1.3424618  -1.8134521 ]\n",
            " [-0.4842128   0.1481287 ]\n",
            " [-0.26352018  0.1481287 ]\n",
            " ...\n",
            " [-1.397635   -1.8134521 ]\n",
            " [-0.31256297  0.1481287 ]\n",
            " [-0.18995596  0.1481287 ]]\n"
          ]
        }
      ]
    },
    {
      "cell_type": "code",
      "metadata": {
        "colab": {
          "base_uri": "https://localhost:8080/",
          "height": 590
        },
        "id": "KsjLyaRDIjVL",
        "outputId": "7ccaf789-7d57-45d1-ac60-c42bb33e9872"
      },
      "source": [
        "print(history.history.keys())\n",
        "\n",
        "# summarize history for accuracy and loss\n",
        "plt.plot(history.history['mape'])\n",
        "plt.title('model accuracy')\n",
        "plt.ylabel('accuracy')\n",
        "plt.xlabel('epoch')\n",
        "plt.legend(['train', 'test'], loc='upper left')\n",
        "plt.show()\n",
        "\n",
        "plt.plot(history.history['loss'])\n",
        "plt.title('model loss')\n",
        "plt.ylabel('loss')\n",
        "plt.xlabel('epoch')\n",
        "plt.legend(['train', 'test'], loc='upper left')\n",
        "plt.show()"
      ],
      "execution_count": 18,
      "outputs": [
        {
          "output_type": "stream",
          "name": "stdout",
          "text": [
            "dict_keys(['loss', 'mape'])\n"
          ]
        },
        {
          "output_type": "display_data",
          "data": {
            "image/png": "[encoded data removed]",
            "text/plain": [
              "<Figure size 432x288 with 1 Axes>"
            ]
          },
          "metadata": {
            "needs_background": "light"
          }
        },
        {
          "output_type": "display_data",
          "data": {
            "image/png": "[encoded data removed]",
            "text/plain": [
              "<Figure size 432x288 with 1 Axes>"
            ]
          },
          "metadata": {
            "needs_background": "light"
          }
        }
      ]
    }
  ]
}