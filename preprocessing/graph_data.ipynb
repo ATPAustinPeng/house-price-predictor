{
 "cells": [
  {
   "cell_type": "code",
   "execution_count": 1,
   "metadata": {},
   "outputs": [],
   "source": [
    "import numpy as np\n",
    "import pandas as pd\n",
    "from matplotlib import pyplot as plt\n",
    "import seaborn as sns\n",
    "%matplotlib inline"
   ]
  },
  {
   "cell_type": "code",
   "execution_count": 2,
   "metadata": {},
   "outputs": [
    {
     "name": "stdout",
     "output_type": "stream",
     "text": [
      "<class 'pandas.core.frame.DataFrame'>\n",
      "RangeIndex: 40343 entries, 0 to 40342\n",
      "Data columns (total 7 columns):\n",
      " #   Column     Non-Null Count  Dtype  \n",
      "---  ------     --------------  -----  \n",
      " 0   price      40343 non-null  int64  \n",
      " 1   space      40343 non-null  float64\n",
      " 2   room       40343 non-null  int64  \n",
      " 3   bedroom    40343 non-null  int64  \n",
      " 4   furniture  40343 non-null  int64  \n",
      " 5   latitude   40343 non-null  float64\n",
      " 6   longitude  40343 non-null  float64\n",
      "dtypes: float64(3), int64(4)\n",
      "memory usage: 2.2 MB\n"
     ]
    }
   ],
   "source": [
    "data = pd.read_csv(\"preprocessed_data.csv\")\n",
    "data.info()"
   ]
  },
  {
   "cell_type": "code",
   "execution_count": 3,
   "metadata": {},
   "outputs": [
    {
     "data": {
      "text/plain": [
       "Index(['price', 'space', 'room', 'bedroom', 'furniture', 'latitude',\n",
       "       'longitude'],\n",
       "      dtype='object')"
      ]
     },
     "execution_count": 3,
     "metadata": {},
     "output_type": "execute_result"
    }
   ],
   "source": [
    "num_data = data._get_numeric_data()\n",
    "num_data.columns"
   ]
  },
  {
   "cell_type": "code",
   "execution_count": 4,
   "metadata": {},
   "outputs": [
    {
     "data": {
      "text/html": [
       "<div>\n",
       "<style scoped>\n",
       "    .dataframe tbody tr th:only-of-type {\n",
       "        vertical-align: middle;\n",
       "    }\n",
       "\n",
       "    .dataframe tbody tr th {\n",
       "        vertical-align: top;\n",
       "    }\n",
       "\n",
       "    .dataframe thead th {\n",
       "        text-align: right;\n",
       "    }\n",
       "</style>\n",
       "<table border=\"1\" class=\"dataframe\">\n",
       "  <thead>\n",
       "    <tr style=\"text-align: right;\">\n",
       "      <th></th>\n",
       "      <th>N</th>\n",
       "      <th>NMISS</th>\n",
       "      <th>SUM</th>\n",
       "      <th>MEAN</th>\n",
       "      <th>MEDIAN</th>\n",
       "      <th>STD</th>\n",
       "      <th>VAR</th>\n",
       "      <th>MIN</th>\n",
       "      <th>P1</th>\n",
       "      <th>P5</th>\n",
       "      <th>P10</th>\n",
       "      <th>P25</th>\n",
       "      <th>P50</th>\n",
       "      <th>P75</th>\n",
       "      <th>P90</th>\n",
       "      <th>P95</th>\n",
       "      <th>P99</th>\n",
       "      <th>MAX</th>\n",
       "    </tr>\n",
       "  </thead>\n",
       "  <tbody>\n",
       "    <tr>\n",
       "      <th>price</th>\n",
       "      <td>40343.0</td>\n",
       "      <td>0.0</td>\n",
       "      <td>3.146304e+09</td>\n",
       "      <td>77988.837221</td>\n",
       "      <td>62000.000000</td>\n",
       "      <td>52228.493838</td>\n",
       "      <td>2.727816e+09</td>\n",
       "      <td>1000.000000</td>\n",
       "      <td>16000.000000</td>\n",
       "      <td>26000.000000</td>\n",
       "      <td>31000.000000</td>\n",
       "      <td>42500.000000</td>\n",
       "      <td>62000.000000</td>\n",
       "      <td>95000.000000</td>\n",
       "      <td>150000.000000</td>\n",
       "      <td>187000.000000</td>\n",
       "      <td>266474.000000</td>\n",
       "      <td>313000.000000</td>\n",
       "    </tr>\n",
       "    <tr>\n",
       "      <th>space</th>\n",
       "      <td>40343.0</td>\n",
       "      <td>0.0</td>\n",
       "      <td>3.338244e+06</td>\n",
       "      <td>82.746538</td>\n",
       "      <td>72.500000</td>\n",
       "      <td>40.781209</td>\n",
       "      <td>1.663107e+03</td>\n",
       "      <td>13.000000</td>\n",
       "      <td>28.000000</td>\n",
       "      <td>36.000000</td>\n",
       "      <td>42.000000</td>\n",
       "      <td>55.000000</td>\n",
       "      <td>72.500000</td>\n",
       "      <td>100.000000</td>\n",
       "      <td>135.300000</td>\n",
       "      <td>164.000000</td>\n",
       "      <td>220.000000</td>\n",
       "      <td>570.000000</td>\n",
       "    </tr>\n",
       "    <tr>\n",
       "      <th>room</th>\n",
       "      <td>40343.0</td>\n",
       "      <td>0.0</td>\n",
       "      <td>1.149360e+05</td>\n",
       "      <td>2.848970</td>\n",
       "      <td>3.000000</td>\n",
       "      <td>1.019598</td>\n",
       "      <td>1.039581e+00</td>\n",
       "      <td>1.000000</td>\n",
       "      <td>1.000000</td>\n",
       "      <td>1.000000</td>\n",
       "      <td>2.000000</td>\n",
       "      <td>2.000000</td>\n",
       "      <td>3.000000</td>\n",
       "      <td>3.000000</td>\n",
       "      <td>4.000000</td>\n",
       "      <td>5.000000</td>\n",
       "      <td>6.000000</td>\n",
       "      <td>14.000000</td>\n",
       "    </tr>\n",
       "    <tr>\n",
       "      <th>bedroom</th>\n",
       "      <td>40343.0</td>\n",
       "      <td>0.0</td>\n",
       "      <td>7.107500e+04</td>\n",
       "      <td>1.761768</td>\n",
       "      <td>2.000000</td>\n",
       "      <td>0.832620</td>\n",
       "      <td>6.932564e-01</td>\n",
       "      <td>0.000000</td>\n",
       "      <td>0.000000</td>\n",
       "      <td>1.000000</td>\n",
       "      <td>1.000000</td>\n",
       "      <td>1.000000</td>\n",
       "      <td>2.000000</td>\n",
       "      <td>2.000000</td>\n",
       "      <td>3.000000</td>\n",
       "      <td>3.000000</td>\n",
       "      <td>4.000000</td>\n",
       "      <td>4.000000</td>\n",
       "    </tr>\n",
       "    <tr>\n",
       "      <th>furniture</th>\n",
       "      <td>40343.0</td>\n",
       "      <td>0.0</td>\n",
       "      <td>1.833800e+04</td>\n",
       "      <td>0.454552</td>\n",
       "      <td>0.000000</td>\n",
       "      <td>0.497936</td>\n",
       "      <td>2.479406e-01</td>\n",
       "      <td>0.000000</td>\n",
       "      <td>0.000000</td>\n",
       "      <td>0.000000</td>\n",
       "      <td>0.000000</td>\n",
       "      <td>0.000000</td>\n",
       "      <td>0.000000</td>\n",
       "      <td>1.000000</td>\n",
       "      <td>1.000000</td>\n",
       "      <td>1.000000</td>\n",
       "      <td>1.000000</td>\n",
       "      <td>1.000000</td>\n",
       "    </tr>\n",
       "    <tr>\n",
       "      <th>latitude</th>\n",
       "      <td>40343.0</td>\n",
       "      <td>0.0</td>\n",
       "      <td>1.683404e+06</td>\n",
       "      <td>41.727286</td>\n",
       "      <td>41.722811</td>\n",
       "      <td>0.088730</td>\n",
       "      <td>7.872949e-03</td>\n",
       "      <td>40.359141</td>\n",
       "      <td>41.560813</td>\n",
       "      <td>41.650950</td>\n",
       "      <td>41.671014</td>\n",
       "      <td>41.705586</td>\n",
       "      <td>41.722811</td>\n",
       "      <td>41.733533</td>\n",
       "      <td>41.788051</td>\n",
       "      <td>41.793611</td>\n",
       "      <td>42.141614</td>\n",
       "      <td>46.218059</td>\n",
       "    </tr>\n",
       "    <tr>\n",
       "      <th>longitude</th>\n",
       "      <td>40343.0</td>\n",
       "      <td>0.0</td>\n",
       "      <td>1.795024e+06</td>\n",
       "      <td>44.494059</td>\n",
       "      <td>44.769620</td>\n",
       "      <td>0.891402</td>\n",
       "      <td>7.945977e-01</td>\n",
       "      <td>38.829869</td>\n",
       "      <td>41.613705</td>\n",
       "      <td>41.636009</td>\n",
       "      <td>44.477029</td>\n",
       "      <td>44.742562</td>\n",
       "      <td>44.769620</td>\n",
       "      <td>44.798384</td>\n",
       "      <td>44.836876</td>\n",
       "      <td>44.873733</td>\n",
       "      <td>44.985167</td>\n",
       "      <td>47.238277</td>\n",
       "    </tr>\n",
       "  </tbody>\n",
       "</table>\n",
       "</div>"
      ],
      "text/plain": [
       "                 N  NMISS           SUM          MEAN        MEDIAN  \\\n",
       "price      40343.0    0.0  3.146304e+09  77988.837221  62000.000000   \n",
       "space      40343.0    0.0  3.338244e+06     82.746538     72.500000   \n",
       "room       40343.0    0.0  1.149360e+05      2.848970      3.000000   \n",
       "bedroom    40343.0    0.0  7.107500e+04      1.761768      2.000000   \n",
       "furniture  40343.0    0.0  1.833800e+04      0.454552      0.000000   \n",
       "latitude   40343.0    0.0  1.683404e+06     41.727286     41.722811   \n",
       "longitude  40343.0    0.0  1.795024e+06     44.494059     44.769620   \n",
       "\n",
       "                    STD           VAR          MIN            P1  \\\n",
       "price      52228.493838  2.727816e+09  1000.000000  16000.000000   \n",
       "space         40.781209  1.663107e+03    13.000000     28.000000   \n",
       "room           1.019598  1.039581e+00     1.000000      1.000000   \n",
       "bedroom        0.832620  6.932564e-01     0.000000      0.000000   \n",
       "furniture      0.497936  2.479406e-01     0.000000      0.000000   \n",
       "latitude       0.088730  7.872949e-03    40.359141     41.560813   \n",
       "longitude      0.891402  7.945977e-01    38.829869     41.613705   \n",
       "\n",
       "                     P5           P10           P25           P50  \\\n",
       "price      26000.000000  31000.000000  42500.000000  62000.000000   \n",
       "space         36.000000     42.000000     55.000000     72.500000   \n",
       "room           1.000000      2.000000      2.000000      3.000000   \n",
       "bedroom        1.000000      1.000000      1.000000      2.000000   \n",
       "furniture      0.000000      0.000000      0.000000      0.000000   \n",
       "latitude      41.650950     41.671014     41.705586     41.722811   \n",
       "longitude     41.636009     44.477029     44.742562     44.769620   \n",
       "\n",
       "                    P75            P90            P95            P99  \\\n",
       "price      95000.000000  150000.000000  187000.000000  266474.000000   \n",
       "space        100.000000     135.300000     164.000000     220.000000   \n",
       "room           3.000000       4.000000       5.000000       6.000000   \n",
       "bedroom        2.000000       3.000000       3.000000       4.000000   \n",
       "furniture      1.000000       1.000000       1.000000       1.000000   \n",
       "latitude      41.733533      41.788051      41.793611      42.141614   \n",
       "longitude     44.798384      44.836876      44.873733      44.985167   \n",
       "\n",
       "                     MAX  \n",
       "price      313000.000000  \n",
       "space         570.000000  \n",
       "room           14.000000  \n",
       "bedroom         4.000000  \n",
       "furniture       1.000000  \n",
       "latitude       46.218059  \n",
       "longitude      47.238277  "
      ]
     },
     "execution_count": 4,
     "metadata": {},
     "output_type": "execute_result"
    }
   ],
   "source": [
    "def var_summary(x):\n",
    "    return pd.Series([x.count(), x.isnull().sum(), x.sum(), x.mean(), x.median(),  x.std(), x.var(), x.min(), x.quantile(0.01), x.quantile(0.05),x.quantile(0.10),x.quantile(0.25),x.quantile(0.50),x.quantile(0.75), x.quantile(0.90),x.quantile(0.95), x.quantile(0.99),x.max()], \n",
    "                  index=['N', 'NMISS', 'SUM', 'MEAN','MEDIAN', 'STD', 'VAR', 'MIN', 'P1' , 'P5' ,'P10' ,'P25' ,'P50' ,'P75' ,'P90' ,'P95' ,'P99' ,'MAX'])\n",
    "\n",
    "num_data.apply(lambda x: var_summary(x)).T"
   ]
  },
  {
   "cell_type": "code",
   "execution_count": 5,
   "metadata": {},
   "outputs": [
    {
     "data": {
      "text/plain": [
       "<AxesSubplot:xlabel='price'>"
      ]
     },
     "execution_count": 5,
     "metadata": {},
     "output_type": "execute_result"
    },
    {
     "data": {
      "image/png": "[encoded data removed]",
      "text/plain": [
       "<Figure size 432x288 with 1 Axes>"
      ]
     },
     "metadata": {
      "needs_background": "light"
     },
     "output_type": "display_data"
    }
   ],
   "source": [
    "sns.boxplot(x=num_data['price'])"
   ]
  },
  {
   "cell_type": "code",
   "execution_count": 6,
   "metadata": {},
   "outputs": [
    {
     "data": {
      "text/plain": [
       "<AxesSubplot:xlabel='space'>"
      ]
     },
     "execution_count": 6,
     "metadata": {},
     "output_type": "execute_result"
    },
    {
     "data": {
      "image/png": "[encoded data removed]",
      "text/plain": [
       "<Figure size 432x288 with 1 Axes>"
      ]
     },
     "metadata": {
      "needs_background": "light"
     },
     "output_type": "display_data"
    }
   ],
   "source": [
    "sns.boxplot(x=num_data['space'])"
   ]
  },
  {
   "cell_type": "code",
   "execution_count": 7,
   "metadata": {},
   "outputs": [
    {
     "data": {
      "text/plain": [
       "<AxesSubplot:xlabel='room'>"
      ]
     },
     "execution_count": 7,
     "metadata": {},
     "output_type": "execute_result"
    },
    {
     "data": {
      "image/png": "[encoded data removed]",
      "text/plain": [
       "<Figure size 432x288 with 1 Axes>"
      ]
     },
     "metadata": {
      "needs_background": "light"
     },
     "output_type": "display_data"
    }
   ],
   "source": [
    "sns.boxplot(x=num_data['room'])"
   ]
  },
  {
   "cell_type": "code",
   "execution_count": 8,
   "metadata": {},
   "outputs": [
    {
     "data": {
      "text/plain": [
       "<AxesSubplot:xlabel='bedroom'>"
      ]
     },
     "execution_count": 8,
     "metadata": {},
     "output_type": "execute_result"
    },
    {
     "data": {
      "image/png": "[encoded data removed]",
      "text/plain": [
       "<Figure size 432x288 with 1 Axes>"
      ]
     },
     "metadata": {
      "needs_background": "light"
     },
     "output_type": "display_data"
    }
   ],
   "source": [
    "sns.boxplot(x=num_data[\"bedroom\"])"
   ]
  },
  {
   "cell_type": "code",
   "execution_count": 9,
   "metadata": {},
   "outputs": [
    {
     "data": {
      "text/plain": [
       "<AxesSubplot:xlabel='furniture'>"
      ]
     },
     "execution_count": 9,
     "metadata": {},
     "output_type": "execute_result"
    },
    {
     "data": {
      "image/png": "[encoded data removed]",
      "text/plain": [
       "<Figure size 432x288 with 1 Axes>"
      ]
     },
     "metadata": {
      "needs_background": "light"
     },
     "output_type": "display_data"
    }
   ],
   "source": [
    "sns.boxplot(x=num_data[\"furniture\"])"
   ]
  },
  {
   "cell_type": "code",
   "execution_count": 10,
   "metadata": {},
   "outputs": [
    {
     "data": {
      "text/plain": [
       "<AxesSubplot:xlabel='latitude'>"
      ]
     },
     "execution_count": 10,
     "metadata": {},
     "output_type": "execute_result"
    },
    {
     "data": {
      "image/png": "[encoded data removed]",
      "text/plain": [
       "<Figure size 432x288 with 1 Axes>"
      ]
     },
     "metadata": {
      "needs_background": "light"
     },
     "output_type": "display_data"
    }
   ],
   "source": [
    "sns.boxplot(x=num_data[\"latitude\"])"
   ]
  },
  {
   "cell_type": "code",
   "execution_count": 11,
   "metadata": {},
   "outputs": [
    {
     "data": {
      "text/plain": [
       "<AxesSubplot:xlabel='longitude'>"
      ]
     },
     "execution_count": 11,
     "metadata": {},
     "output_type": "execute_result"
    },
    {
     "data": {
      "image/png": "[encoded data removed]",
      "text/plain": [
       "<Figure size 432x288 with 1 Axes>"
      ]
     },
     "metadata": {
      "needs_background": "light"
     },
     "output_type": "display_data"
    }
   ],
   "source": [
    "sns.boxplot(x=num_data[\"longitude\"])"
   ]
  },
  {
   "cell_type": "code",
   "execution_count": 12,
   "metadata": {},
   "outputs": [
    {
     "data": {
      "text/plain": [
       "<AxesSubplot:>"
      ]
     },
     "execution_count": 12,
     "metadata": {},
     "output_type": "execute_result"
    },
    {
     "data": {
      "image/png": "[encoded data removed]",
      "text/plain": [
       "<Figure size 936x720 with 2 Axes>"
      ]
     },
     "metadata": {
      "needs_background": "light"
     },
     "output_type": "display_data"
    }
   ],
   "source": [
    "num_corr = num_data.corr()\n",
    "plt.subplots(figsize=(13,10))\n",
    "sns.heatmap(num_corr,vmax =.8 ,square = True)"
   ]
  },
  {
   "cell_type": "code",
   "execution_count": null,
   "metadata": {},
   "outputs": [],
   "source": []
  }
 ],
 "metadata": {
  "interpreter": {
   "hash": "4d68ed94e3a7a6b0032e15b62172d42c04cd4d1b84099ed615d840456e1778b6"
  },
  "kernelspec": {
   "display_name": "Python 3.8.8 64-bit ('base': conda)",
   "language": "python",
   "name": "python3"
  },
  "language_info": {
   "codemirror_mode": {
    "name": "ipython",
    "version": 3
   },
   "file_extension": ".py",
   "mimetype": "text/x-python",
   "name": "python",
   "nbconvert_exporter": "python",
   "pygments_lexer": "ipython3",
   "version": "3.8.8"
  },
  "orig_nbformat": 4
 },
 "nbformat": 4,
 "nbformat_minor": 2
}
